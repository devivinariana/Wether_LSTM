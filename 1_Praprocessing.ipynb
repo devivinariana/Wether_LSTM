{
  "nbformat": 4,
  "nbformat_minor": 0,
  "metadata": {
    "colab": {
      "provenance": [],
      "authorship_tag": "ABX9TyPBw/uI1jz50N3i+lxKmJ8w",
      "include_colab_link": true
    },
    "kernelspec": {
      "name": "python3",
      "display_name": "Python 3"
    },
    "language_info": {
      "name": "python"
    }
  },
  "cells": [
    {
      "cell_type": "markdown",
      "metadata": {
        "id": "view-in-github",
        "colab_type": "text"
      },
      "source": [
        "<a href=\"https://colab.research.google.com/github/devivinariana/Wether_LSTM/blob/main/1_Praprocessing.ipynb\" target=\"_parent\"><img src=\"https://colab.research.google.com/assets/colab-badge.svg\" alt=\"Open In Colab\"/></a>"
      ]
    },
    {
      "cell_type": "markdown",
      "source": [
        "# **Preprocessing Data**\n",
        "mengganti data NaN dengan interpolasi"
      ],
      "metadata": {
        "id": "05gfben0mCDS"
      }
    },
    {
      "cell_type": "code",
      "source": [
        "import pandas as pd\n",
        "import numpy as np"
      ],
      "metadata": {
        "id": "o0dx4Dw7kSkv"
      },
      "execution_count": null,
      "outputs": []
    },
    {
      "cell_type": "code",
      "source": [
        "# read the file data\n",
        "excel_file = pd.read_excel('dataset.xlsx')\n",
        "df = pd.DataFrame(excel_file)\n",
        "\n",
        "print(df)"
      ],
      "metadata": {
        "colab": {
          "base_uri": "https://localhost:8080/"
        },
        "id": "_kop4lZWkerR",
        "outputId": "0266be08-fc34-436b-a291-2c58404cbeb3"
      },
      "execution_count": null,
      "outputs": [
        {
          "output_type": "stream",
          "name": "stdout",
          "text": [
            "         Tanggal    Tn    Tx  Tavg  RH_avg      RR   ss\n",
            "0     31-12-2015  26.0  31.6  28.7    80.0  8888.0  8.2\n",
            "1     01-01-2016  25.4  32.0  29.3    77.0     NaN  6.5\n",
            "2     02-01-2016  26.2  31.6  28.1    86.0     0.5  5.8\n",
            "3     03-01-2016  27.0  32.0  28.3    86.0     NaN  2.0\n",
            "4     04-01-2016  23.2  32.3  27.8    84.0    76.5  4.7\n",
            "...          ...   ...   ...   ...     ...     ...  ...\n",
            "2876  15-11-2023   NaN   NaN   NaN     NaN     NaN  NaN\n",
            "2877  16-11-2023   NaN   NaN   NaN     NaN     NaN  NaN\n",
            "2878  17-11-2023   NaN   NaN   NaN     NaN     NaN  NaN\n",
            "2879  18-11-2023   NaN   NaN   NaN     NaN     NaN  NaN\n",
            "2880  19-11-2023   NaN   NaN   NaN     NaN     NaN  NaN\n",
            "\n",
            "[2881 rows x 7 columns]\n"
          ]
        }
      ]
    },
    {
      "cell_type": "code",
      "source": [
        "# prosessing data dengan interpolasi\n",
        "df_interpolate = df.interpolate()\n",
        "print(df_interpolate)"
      ],
      "metadata": {
        "id": "ba094QP9k2j_",
        "colab": {
          "base_uri": "https://localhost:8080/"
        },
        "outputId": "75857201-09e6-457f-e466-f7ee1e04f9ab"
      },
      "execution_count": null,
      "outputs": [
        {
          "output_type": "stream",
          "name": "stdout",
          "text": [
            "         Tanggal    Tn    Tx  Tavg  RH_avg       RR   ss\n",
            "0     31-12-2015  26.0  31.6  28.7    80.0  8888.00  8.2\n",
            "1     01-01-2016  25.4  32.0  29.3    77.0  4444.25  6.5\n",
            "2     02-01-2016  26.2  31.6  28.1    86.0     0.50  5.8\n",
            "3     03-01-2016  27.0  32.0  28.3    86.0    38.50  2.0\n",
            "4     04-01-2016  23.2  32.3  27.8    84.0    76.50  4.7\n",
            "...          ...   ...   ...   ...     ...      ...  ...\n",
            "2876  15-11-2023  27.0  35.6  31.0    70.0     0.00  6.7\n",
            "2877  16-11-2023  27.0  35.6  31.0    70.0     0.00  6.7\n",
            "2878  17-11-2023  27.0  35.6  31.0    70.0     0.00  6.7\n",
            "2879  18-11-2023  27.0  35.6  31.0    70.0     0.00  6.7\n",
            "2880  19-11-2023  27.0  35.6  31.0    70.0     0.00  6.7\n",
            "\n",
            "[2881 rows x 7 columns]\n"
          ]
        }
      ]
    },
    {
      "cell_type": "code",
      "source": [
        "# mengambil kembali data interpolasi menjadi excel lagi\n",
        "df_interpolate.to_excel('dataset_clean.xlsx', index=False)"
      ],
      "metadata": {
        "id": "noX87BvzltgF"
      },
      "execution_count": null,
      "outputs": []
    }
  ]
}