{
  "nbformat": 4,
  "nbformat_minor": 0,
  "metadata": {
    "colab": {
      "provenance": []
    },
    "kernelspec": {
      "name": "python3",
      "display_name": "Python 3"
    },
    "language_info": {
      "name": "python"
    }
  },
  "cells": [
    {
      "cell_type": "markdown",
      "source": [
        "# **Preprocessing Data**\n",
        "mengganti data NaN dengan interpolasi"
      ],
      "metadata": {
        "id": "05gfben0mCDS"
      }
    },
    {
      "cell_type": "code",
      "source": [
        "import pandas as pd\n",
        "import numpy as np"
      ],
      "metadata": {
        "id": "o0dx4Dw7kSkv"
      },
      "execution_count": 1,
      "outputs": []
    },
    {
      "cell_type": "code",
      "source": [
        "# read the file data\n",
        "excel_file = pd.read_excel('dataset.xlsx')\n",
        "df = pd.DataFrame(excel_file)\n",
        "\n",
        "print(df)"
      ],
      "metadata": {
        "colab": {
          "base_uri": "https://localhost:8080/"
        },
        "id": "_kop4lZWkerR",
        "outputId": "f4a49615-2036-45c8-af5b-1986f1cba636"
      },
      "execution_count": 7,
      "outputs": [
        {
          "output_type": "stream",
          "name": "stdout",
          "text": [
            "         Tanggal    Tn    Tx  Tavg  RH_avg    RR   ss\n",
            "0     01-01-2016  25.4  32.0  29.3    77.0   NaN  6.5\n",
            "1     02-01-2016  26.2  31.6  28.1    86.0   0.5  5.8\n",
            "2     03-01-2016  27.0  32.0  28.3    86.0   NaN  2.0\n",
            "3     04-01-2016  23.2  32.3  27.8    84.0  76.5  4.7\n",
            "4     05-01-2016  26.2  32.0  27.7    85.0   NaN  7.0\n",
            "...          ...   ...   ...   ...     ...   ...  ...\n",
            "2875  15-11-2023   NaN   NaN   NaN     NaN   NaN  NaN\n",
            "2876  16-11-2023   NaN   NaN   NaN     NaN   NaN  NaN\n",
            "2877  17-11-2023   NaN   NaN   NaN     NaN   NaN  NaN\n",
            "2878  18-11-2023   NaN   NaN   NaN     NaN   NaN  NaN\n",
            "2879  19-11-2023   NaN   NaN   NaN     NaN   NaN  NaN\n",
            "\n",
            "[2880 rows x 7 columns]\n"
          ]
        }
      ]
    },
    {
      "cell_type": "code",
      "source": [
        "# prosessing data dengan interpolasi\n",
        "df_interpolate = df.interpolate()"
      ],
      "metadata": {
        "id": "ba094QP9k2j_"
      },
      "execution_count": 8,
      "outputs": []
    },
    {
      "cell_type": "code",
      "source": [
        "print(df_interpolate)"
      ],
      "metadata": {
        "colab": {
          "base_uri": "https://localhost:8080/"
        },
        "id": "5ZB265aClkN1",
        "outputId": "bbfa0576-9f55-4f86-dc42-65a1186aad90"
      },
      "execution_count": 10,
      "outputs": [
        {
          "output_type": "stream",
          "name": "stdout",
          "text": [
            "         Tanggal    Tn    Tx  Tavg  RH_avg     RR   ss\n",
            "0     01-01-2016  25.4  32.0  29.3    77.0    NaN  6.5\n",
            "1     02-01-2016  26.2  31.6  28.1    86.0   0.50  5.8\n",
            "2     03-01-2016  27.0  32.0  28.3    86.0  38.50  2.0\n",
            "3     04-01-2016  23.2  32.3  27.8    84.0  76.50  4.7\n",
            "4     05-01-2016  26.2  32.0  27.7    85.0  49.05  7.0\n",
            "...          ...   ...   ...   ...     ...    ...  ...\n",
            "2875  15-11-2023  27.0  35.6  31.0    70.0   0.00  6.7\n",
            "2876  16-11-2023  27.0  35.6  31.0    70.0   0.00  6.7\n",
            "2877  17-11-2023  27.0  35.6  31.0    70.0   0.00  6.7\n",
            "2878  18-11-2023  27.0  35.6  31.0    70.0   0.00  6.7\n",
            "2879  19-11-2023  27.0  35.6  31.0    70.0   0.00  6.7\n",
            "\n",
            "[2880 rows x 7 columns]\n"
          ]
        }
      ]
    },
    {
      "cell_type": "code",
      "source": [
        "# mengambbil kembali data interpolasi menjadi excel lagi\n",
        "df_interpolate.to_excel('dataset_clean.xlsx', index=False)"
      ],
      "metadata": {
        "id": "noX87BvzltgF"
      },
      "execution_count": 11,
      "outputs": []
    },
    {
      "cell_type": "markdown",
      "source": [
        "# **Membuat Model LSTM**\n"
      ],
      "metadata": {
        "id": "EDMQ1nAlmUQa"
      }
    },
    {
      "cell_type": "code",
      "source": [],
      "metadata": {
        "id": "r_qJ4pqGmsQT"
      },
      "execution_count": null,
      "outputs": []
    }
  ]
}